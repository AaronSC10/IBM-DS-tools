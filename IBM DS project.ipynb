{
 "cells": [
  {
   "cell_type": "markdown",
   "metadata": {},
   "source": [
    "<center>\n",
    "    <img src=\"https://cf-courses-data.s3.us.cloud-object-storage.appdomain.cloud/IBMDeveloperSkillsNetwork-DS0105EN-SkillsNetwork/labs/Module2/images/SN_web_lightmode.png\" width=\"300\" alt=\"cognitiveclass.ai logo\">\n",
    "</center>\n"
   ]
  },
  {
   "cell_type": "markdown",
   "metadata": {},
   "source": [
    "#### Add your code below following the instructions given in the course\n"
   ]
  },
  {
   "cell_type": "markdown",
   "metadata": {},
   "source": [
    "# Data Science Tools and Ecosystem"
   ]
  },
  {
   "cell_type": "markdown",
   "metadata": {},
   "source": [
    "### In this notebook, Data Science Tools and Ecosystem are summarized."
   ]
  },
  {
   "cell_type": "markdown",
   "metadata": {},
   "source": [
    "## Data Science Languages\n",
    "\n",
    "Some of the popular languages that Data Scientists use are:\n",
    "\n",
    "1. Python: Python is a widely used programming language in the data science community. It has a large number of libraries for data analysis and machine learning, such as NumPy, Pandas, Matplotlib, and Scikit-Learn.\n",
    "\n",
    "2. R: R is a language that was designed specifically for data analysis and statistical computing. It is popular among statisticians and data analysts because of its powerful data manipulation and visualization capabilities.\n",
    "\n",
    "3. SQL: SQL (Structured Query Language) is a domain-specific language used for managing and manipulating relational databases. Data scientists often use SQL to extract, transform, and load data from databases into their analysis tools.\n",
    "\n",
    "4. Julia: Julia is a relatively new programming language that is gaining popularity among data scientists. It is designed to be fast and efficient, which makes it suitable for working with large datasets and complex mathematical models.\n",
    "\n",
    "5. MATLAB: MATLAB is a programming language that is widely used in the scientific and engineering communities. It has a large number of built-in functions for data analysis, visualization, and numerical computation.\n"
   ]
  },
  {
   "cell_type": "markdown",
   "metadata": {},
   "source": [
    "## Some of the commonly used libraries used by Data Scientists include:\n",
    "\n",
    "1. NumPy: NumPy is a library for the Python programming language, which is used for working with arrays and matrices. It provides a range of mathematical functions, including linear algebra, Fourier transforms, and random number generation, which are commonly used in data analysis and machine learning.\n",
    "\n",
    "2. Pandas: Pandas is another Python library that is used for data manipulation and analysis. It provides data structures for efficiently storing and processing large datasets, as well as functions for cleaning, filtering, and merging data.\n",
    "\n",
    "3. Matplotlib: Matplotlib is a Python library for creating visualizations and plots. It provides a range of chart types and customization options, which are useful for exploring and communicating data insights.\n",
    "\n",
    "4. Scikit-Learn: Scikit-Learn is a Python library for machine learning, which provides a range of algorithms for tasks such as classification, regression, and clustering. It also includes tools for data preprocessing, feature selection, and model evaluation.\n",
    "\n",
    "5. TensorFlow: TensorFlow is a popular open-source library for building and training machine learning models. It provides a range of APIs for building and deploying deep learning models, as well as tools for data preprocessing and model optimization.\n"
   ]
  },
  {
   "cell_type": "markdown",
   "metadata": {},
   "source": [
    "| Data Science Tools |\n",
    "| ------------------ |\n",
    "| Jupyter Notebook   |\n",
    "| RStudio            |\n",
    "| Spyder             |\n"
   ]
  },
  {
   "cell_type": "markdown",
   "metadata": {},
   "source": [
    "### Below are a few examples of evaluating arithmetic expressions in Python\n",
    "\n",
    "2 + 1 = 3\n",
    "\n",
    "10/5 = 2\n",
    "\n",
    "3*3 = 9\n",
    "\n",
    "2*2 = 4\n"
   ]
  },
  {
   "cell_type": "code",
   "execution_count": 3,
   "metadata": {},
   "outputs": [
    {
     "data": {
      "text/plain": [
       "17"
      ]
     },
     "execution_count": 3,
     "metadata": {},
     "output_type": "execute_result"
    }
   ],
   "source": [
    "#This a simple arithmetic expression to mutiply then add integers\n",
    "(3*4)+5"
   ]
  },
  {
   "cell_type": "code",
   "execution_count": 4,
   "metadata": {},
   "outputs": [
    {
     "data": {
      "text/plain": [
       "3.3333333333333335"
      ]
     },
     "execution_count": 4,
     "metadata": {},
     "output_type": "execute_result"
    }
   ],
   "source": [
    "#This will convert 200 minutes to hours by diving by 60\n",
    "200/60"
   ]
  },
  {
   "cell_type": "markdown",
   "metadata": {},
   "source": [
    "## Objectives:\n",
    "\n",
    "- List popular languages for Data Science\n",
    "- Explain the importance of Jupyter Notebook for Data Science\n",
    "- Doing simple code in python\n",
    "- Applying different forms to style the notebook\n",
    "- Showcase simple arithmetic expressions in python\n"
   ]
  },
  {
   "cell_type": "markdown",
   "metadata": {},
   "source": [
    "## Author Aaron Ramirez"
   ]
  }
 ],
 "metadata": {
  "kernelspec": {
   "display_name": "Python 3 (ipykernel)",
   "language": "python",
   "name": "python3"
  },
  "language_info": {
   "codemirror_mode": {
    "name": "ipython",
    "version": 3
   },
   "file_extension": ".py",
   "mimetype": "text/x-python",
   "name": "python",
   "nbconvert_exporter": "python",
   "pygments_lexer": "ipython3",
   "version": "3.9.13"
  }
 },
 "nbformat": 4,
 "nbformat_minor": 4
}
